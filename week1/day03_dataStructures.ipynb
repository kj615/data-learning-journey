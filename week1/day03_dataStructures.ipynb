{
 "cells": [
  {
   "cell_type": "markdown",
   "id": "7f8edd4c-d3e9-4351-9ce1-c080e17f3a5b",
   "metadata": {},
   "source": [
    "# Day 3 - Data Structures"
   ]
  },
  {
   "cell_type": "markdown",
   "id": "b3887940-aba0-4eeb-a3cb-760afdc92eb7",
   "metadata": {},
   "source": [
    "## Lists\n",
    "- Square brackets\n",
    "- Order matters and is static\n",
    "- Can append lists with variable_name.append(value to append)"
   ]
  },
  {
   "cell_type": "markdown",
   "id": "b7db5f26-3f0f-4e21-a78e-2abf7286fd18",
   "metadata": {},
   "source": [
    "- Lists use square brackets [ ]\n",
    "- Order matters and is static\n",
    "- Can append lists with variable_name.append(value to append)"
   ]
  },
  {
   "cell_type": "markdown",
   "id": "daf254f3-ccb3-43df-afcb-31b64dbead51",
   "metadata": {},
   "source": [
    "### List Numbers"
   ]
  },
  {
   "cell_type": "code",
   "execution_count": 3,
   "id": "3f650f9f-8628-4cf7-ac77-43da59320715",
   "metadata": {},
   "outputs": [
    {
     "name": "stdout",
     "output_type": "stream",
     "text": [
      "[1, 2, 3]\n"
     ]
    }
   ],
   "source": [
    "my_list = [1, 2, 3]\n",
    "print(my_list)"
   ]
  },
  {
   "cell_type": "markdown",
   "id": "6d072734-3902-4d0d-a228-d9819f3c577b",
   "metadata": {},
   "source": [
    "### List Strings"
   ]
  },
  {
   "cell_type": "code",
   "execution_count": 4,
   "id": "1b7e5aaf-bb0d-4135-9d8f-8e0e47dbd203",
   "metadata": {},
   "outputs": [
    {
     "name": "stdout",
     "output_type": "stream",
     "text": [
      "['Kelly', 'Brad', 'Lucy']\n"
     ]
    }
   ],
   "source": [
    "my_family = ['Kelly', 'Brad', 'Lucy']\n",
    "print(my_family)"
   ]
  },
  {
   "cell_type": "code",
   "execution_count": 5,
   "id": "d661c7e7-9000-428b-98d5-3b979561229c",
   "metadata": {},
   "outputs": [
    {
     "name": "stdout",
     "output_type": "stream",
     "text": [
      "3\n"
     ]
    }
   ],
   "source": [
    "print(len(my_family))"
   ]
  },
  {
   "cell_type": "code",
   "execution_count": 6,
   "id": "01c5ab9c-1906-4aa1-8412-dd240bf0bf16",
   "metadata": {},
   "outputs": [
    {
     "name": "stdout",
     "output_type": "stream",
     "text": [
      "['Kelly', 'Brad', 'Lucy', 'Joey']\n"
     ]
    }
   ],
   "source": [
    "my_family.append('Joey')\n",
    "print(my_family)"
   ]
  },
  {
   "cell_type": "markdown",
   "id": "7d8f2168-f0c6-4749-abf9-6a7a99d9e91c",
   "metadata": {},
   "source": [
    "## Sets\n",
    "- Curly brackets\n",
    "- Order doesn't matter and isn't static\n",
    "- Elements must be unique and will not be repeated\n",
    "- Length will only include unique elements"
   ]
  },
  {
   "cell_type": "code",
   "execution_count": 7,
   "id": "a549a7da-1b06-46bc-a3a2-c20958303918",
   "metadata": {},
   "outputs": [
    {
     "name": "stdout",
     "output_type": "stream",
     "text": [
      "{1, 2, 3, 4}\n",
      "{8, 16, 4, 'numbers'}\n"
     ]
    }
   ],
   "source": [
    "my_set = {1, 1, 2, 3, 4, 3}\n",
    "print(my_set)\n",
    "\n",
    "new_set = {8, 4, 16, 'numbers'}\n",
    "print(new_set)"
   ]
  },
  {
   "cell_type": "markdown",
   "id": "2a9c5d5f-caaf-4edb-b064-d31624d65ea6",
   "metadata": {},
   "source": [
    "## Tuples\n",
    "- Parentheses\n",
    "- Order matters and is static\n",
    "- Cannot append, once declared a tuple can't be changed\n",
    "- Use less memory because they can't be changed"
   ]
  },
  {
   "cell_type": "code",
   "execution_count": 1,
   "id": "1276ad62-b5af-4e00-aec6-a31e3aba78a2",
   "metadata": {},
   "outputs": [
    {
     "name": "stdout",
     "output_type": "stream",
     "text": [
      "('Deer', 15, 16, 'Country', 'Cedar')\n"
     ]
    }
   ],
   "source": [
    "my_tuple = ('Deer', 15, 16, 'Country', 'Cedar')\n",
    "print(my_tuple)"
   ]
  },
  {
   "cell_type": "markdown",
   "id": "78fab24c",
   "metadata": {},
   "source": [
    "## Dictionaries\n",
    "- Curly brackets\n",
    "- 'key': 'value'\n",
    "- Each key must be unique, reusing a key will overwrite the previous value"
   ]
  },
  {
   "cell_type": "code",
   "execution_count": 2,
   "id": "7a2565d2",
   "metadata": {},
   "outputs": [],
   "source": [
    "my_dictionary = {\n",
    "    'Muffin': 'Boader Collie',\n",
    "    'Gus': 'White and Blue cat',\n",
    "    'Boo': 'B Collie mix',\n",
    "    'Joey': 'Lab mix',\n",
    "    'Lucy': 'Stubborn baby'\n",
    "}"
   ]
  },
  {
   "cell_type": "code",
   "execution_count": 3,
   "id": "f8021344",
   "metadata": {},
   "outputs": [
    {
     "ename": "NameError",
     "evalue": "name 'my_dictonary' is not defined",
     "output_type": "error",
     "traceback": [
      "\u001b[1;31m---------------------------------------------------------------------------\u001b[0m",
      "\u001b[1;31mNameError\u001b[0m                                 Traceback (most recent call last)",
      "Cell \u001b[1;32mIn[3], line 1\u001b[0m\n\u001b[1;32m----> 1\u001b[0m \u001b[43mmy_dictonary\u001b[49m[\u001b[38;5;124m'\u001b[39m\u001b[38;5;124mMuffin\u001b[39m\u001b[38;5;124m'\u001b[39m]\n",
      "\u001b[1;31mNameError\u001b[0m: name 'my_dictonary' is not defined"
     ]
    }
   ],
   "source": [
    "my_dictonary['Muffin']"
   ]
  },
  {
   "cell_type": "code",
   "execution_count": 4,
   "id": "86b1102d",
   "metadata": {},
   "outputs": [
    {
     "name": "stdout",
     "output_type": "stream",
     "text": [
      "Boader Collie\n"
     ]
    }
   ],
   "source": [
    "print(my_dictionary['Muffin'])"
   ]
  },
  {
   "cell_type": "code",
   "execution_count": 5,
   "id": "5930ed5b",
   "metadata": {},
   "outputs": [
    {
     "name": "stdout",
     "output_type": "stream",
     "text": [
      "Stubborn baby\n"
     ]
    }
   ],
   "source": [
    "print(my_dictionary['Lucy'])"
   ]
  },
  {
   "cell_type": "code",
   "execution_count": null,
   "id": "824b5e1f",
   "metadata": {},
   "outputs": [],
   "source": []
  }
 ],
 "metadata": {
  "kernelspec": {
   "display_name": "Python 3",
   "language": "python",
   "name": "python3"
  },
  "language_info": {
   "codemirror_mode": {
    "name": "ipython",
    "version": 3
   },
   "file_extension": ".py",
   "mimetype": "text/x-python",
   "name": "python",
   "nbconvert_exporter": "python",
   "pygments_lexer": "ipython3",
   "version": "3.10.4"
  }
 },
 "nbformat": 4,
 "nbformat_minor": 5
}
