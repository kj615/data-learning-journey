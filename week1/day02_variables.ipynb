{
 "cells": [
  {
   "cell_type": "markdown",
   "id": "3a09088f-0409-46c4-a200-8ff4520e1218",
   "metadata": {},
   "source": [
    "# Variables"
   ]
  },
  {
   "cell_type": "markdown",
   "id": "69c4b99f-5dbd-4d37-91f0-37c574fdc672",
   "metadata": {},
   "source": [
    "## Numbers"
   ]
  },
  {
   "cell_type": "code",
   "execution_count": 1,
   "id": "4a66dbda-86c2-4230-aec7-b0a2d81df3fe",
   "metadata": {},
   "outputs": [
    {
     "name": "stdout",
     "output_type": "stream",
     "text": [
      "5\n",
      "11\n",
      "<class 'int'>\n"
     ]
    }
   ],
   "source": [
    "a=5\n",
    "print(a)\n",
    "\n",
    "b=6\n",
    "print(a + b)\n",
    "print(type(a))"
   ]
  },
  {
   "cell_type": "markdown",
   "id": "fbdd9d50-12de-4e8a-bd0e-c5f17ddbb149",
   "metadata": {},
   "source": [
    "## Strings"
   ]
  },
  {
   "cell_type": "code",
   "execution_count": 11,
   "id": "47454919-1a6d-421e-94e6-b1b1efb33459",
   "metadata": {},
   "outputs": [
    {
     "name": "stdout",
     "output_type": "stream",
     "text": [
      "This is a new string\n"
     ]
    }
   ],
   "source": [
    "text = ('This is a new string')\n",
    "print(text)"
   ]
  },
  {
   "cell_type": "code",
   "execution_count": 12,
   "id": "ef3d174a-6b3b-4dfc-bc3a-14f3d191c1e1",
   "metadata": {},
   "outputs": [],
   "source": [
    "text2 = (' and this is another string')"
   ]
  },
  {
   "cell_type": "markdown",
   "id": "fadfaf27-be97-4f14-8eee-535a74568ef5",
   "metadata": {},
   "source": [
    "### Concatenate Strings"
   ]
  },
  {
   "cell_type": "code",
   "execution_count": 13,
   "id": "568e76b1-8a44-4834-a416-68e9521bc265",
   "metadata": {},
   "outputs": [
    {
     "name": "stdout",
     "output_type": "stream",
     "text": [
      "This is a new string and this is another string\n"
     ]
    }
   ],
   "source": [
    "print(text + text2)"
   ]
  },
  {
   "cell_type": "markdown",
   "id": "ff1be3b4-0922-4c6c-84d8-93cf3ee5e685",
   "metadata": {},
   "source": [
    "### Repeat Strings"
   ]
  },
  {
   "cell_type": "code",
   "execution_count": 14,
   "id": "093e687d-36bf-443f-bfe1-8f3f62ce1f22",
   "metadata": {},
   "outputs": [
    {
     "name": "stdout",
     "output_type": "stream",
     "text": [
      "kelly kelly kelly kelly kelly \n"
     ]
    }
   ],
   "source": [
    "name = 'kelly '\n",
    "print(name * 5)"
   ]
  },
  {
   "cell_type": "code",
   "execution_count": null,
   "id": "161e6d2e-e628-4be3-bbf7-d55aeed4b173",
   "metadata": {},
   "outputs": [],
   "source": []
  },
  {
   "cell_type": "code",
   "execution_count": null,
   "id": "7bc9ca91-13d0-4ae9-9760-1a1a7a613007",
   "metadata": {},
   "outputs": [],
   "source": []
  },
  {
   "cell_type": "code",
   "execution_count": 15,
   "id": "3bc05df6-a650-4662-8021-b55399b2ffa9",
   "metadata": {},
   "outputs": [
    {
     "name": "stdout",
     "output_type": "stream",
     "text": [
      "True\n",
      "True\n"
     ]
    }
   ],
   "source": [
    "#booleans\n",
    "3 == 3\n",
    "print(3 == 3)\n",
    "print(3 < 4)"
   ]
  }
 ],
 "metadata": {
  "kernelspec": {
   "display_name": ".conda",
   "language": "python",
   "name": "python3"
  },
  "language_info": {
   "codemirror_mode": {
    "name": "ipython",
    "version": 3
   },
   "file_extension": ".py",
   "mimetype": "text/x-python",
   "name": "python",
   "nbconvert_exporter": "python",
   "pygments_lexer": "ipython3",
   "version": "3.12.12"
  }
 },
 "nbformat": 4,
 "nbformat_minor": 5
}
