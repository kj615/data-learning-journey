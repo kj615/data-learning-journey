{
 "cells": [
  {
   "cell_type": "markdown",
   "id": "baf9c1fd",
   "metadata": {},
   "source": [
    "# Operators"
   ]
  },
  {
   "cell_type": "markdown",
   "id": "1819f93d",
   "metadata": {},
   "source": [
    "## Arithmatic\n",
    "- standard math operators\n",
    "- % modulus (remainder)\n",
    "- using + with strings will concatenate\n",
    "- using * with strings will repeat"
   ]
  },
  {
   "cell_type": "code",
   "execution_count": 2,
   "id": "8df3756a",
   "metadata": {},
   "outputs": [
    {
     "name": "stdout",
     "output_type": "stream",
     "text": [
      "6\n"
     ]
    }
   ],
   "source": [
    "print(3 + 3)"
   ]
  },
  {
   "cell_type": "code",
   "execution_count": 3,
   "id": "856ca3df",
   "metadata": {},
   "outputs": [
    {
     "name": "stdout",
     "output_type": "stream",
     "text": [
      "1\n"
     ]
    }
   ],
   "source": [
    "print(10 % 3)"
   ]
  },
  {
   "cell_type": "markdown",
   "id": "96d952e7",
   "metadata": {},
   "source": [
    "## Comparison\n",
    "- ==, <, >, <=, >="
   ]
  },
  {
   "cell_type": "code",
   "execution_count": 4,
   "id": "3031f16d",
   "metadata": {},
   "outputs": [
    {
     "name": "stdout",
     "output_type": "stream",
     "text": [
      "True\n"
     ]
    }
   ],
   "source": [
    "print(3 == 3)"
   ]
  },
  {
   "cell_type": "markdown",
   "id": "21512195",
   "metadata": {},
   "source": [
    "## Logical\n",
    "- and, or, not\n",
    "- booleans (True/False)"
   ]
  },
  {
   "cell_type": "code",
   "execution_count": 5,
   "id": "f57295aa",
   "metadata": {},
   "outputs": [
    {
     "data": {
      "text/plain": [
       "True"
      ]
     },
     "execution_count": 5,
     "metadata": {},
     "output_type": "execute_result"
    }
   ],
   "source": [
    "True and True"
   ]
  },
  {
   "cell_type": "code",
   "execution_count": 6,
   "id": "ed2f02bd",
   "metadata": {},
   "outputs": [
    {
     "data": {
      "text/plain": [
       "False"
      ]
     },
     "execution_count": 6,
     "metadata": {},
     "output_type": "execute_result"
    }
   ],
   "source": [
    "True and False"
   ]
  },
  {
   "cell_type": "markdown",
   "id": "586cdada",
   "metadata": {},
   "source": [
    "## Membership\n",
    "- in, not in\n",
    "- can use numbers or strings\n",
    "- caution with strings, can be full or partial word: e.g. \"cat\" in \"concatenate\" and in \"the cat is brown\""
   ]
  },
  {
   "cell_type": "code",
   "execution_count": 7,
   "id": "1244d9dc",
   "metadata": {},
   "outputs": [
    {
     "name": "stdout",
     "output_type": "stream",
     "text": [
      "True\n"
     ]
    }
   ],
   "source": [
    "print('cat' in 'The cat is brown')"
   ]
  },
  {
   "cell_type": "code",
   "execution_count": 8,
   "id": "03f3041c",
   "metadata": {},
   "outputs": [
    {
     "name": "stdout",
     "output_type": "stream",
     "text": [
      "True\n"
     ]
    }
   ],
   "source": [
    "print('cat' in 'concatenate')"
   ]
  },
  {
   "cell_type": "code",
   "execution_count": 9,
   "id": "0dac2fd9",
   "metadata": {},
   "outputs": [
    {
     "name": "stdout",
     "output_type": "stream",
     "text": [
      "False\n"
     ]
    }
   ],
   "source": [
    "my_list = [2, 3, 4, 5]\n",
    "print(1 in my_list)"
   ]
  },
  {
   "cell_type": "markdown",
   "id": "880786b8",
   "metadata": {},
   "source": []
  }
 ],
 "metadata": {
  "kernelspec": {
   "display_name": "Python 3",
   "language": "python",
   "name": "python3"
  },
  "language_info": {
   "codemirror_mode": {
    "name": "ipython",
    "version": 3
   },
   "file_extension": ".py",
   "mimetype": "text/x-python",
   "name": "python",
   "nbconvert_exporter": "python",
   "pygments_lexer": "ipython3",
   "version": "3.10.4"
  }
 },
 "nbformat": 4,
 "nbformat_minor": 5
}
