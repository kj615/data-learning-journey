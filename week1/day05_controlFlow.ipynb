{
 "cells": [
  {
   "cell_type": "markdown",
   "id": "ff88f778",
   "metadata": {},
   "source": [
    "# Control Flow"
   ]
  },
  {
   "cell_type": "markdown",
   "id": "5bf39f4a",
   "metadata": {},
   "source": [
    "## If/Else\n",
    "- indented lines belong to the \"if block\""
   ]
  },
  {
   "cell_type": "code",
   "execution_count": null,
   "id": "1a5d645c",
   "metadata": {},
   "outputs": [],
   "source": []
  },
  {
   "cell_type": "markdown",
   "id": "aeb8a893",
   "metadata": {},
   "source": [
    "## For/While Loops\n",
    "- While loops are best when conditions are changing or impacted by the code within the loop to prevent a never ending loop"
   ]
  },
  {
   "cell_type": "code",
   "execution_count": null,
   "id": "8a75e172",
   "metadata": {},
   "outputs": [],
   "source": []
  }
 ],
 "metadata": {
  "kernelspec": {
   "display_name": "Python 3",
   "language": "python",
   "name": "python3"
  },
  "language_info": {
   "codemirror_mode": {
    "name": "ipython",
    "version": 3
   },
   "file_extension": ".py",
   "mimetype": "text/x-python",
   "name": "python",
   "nbconvert_exporter": "python",
   "pygments_lexer": "ipython3",
   "version": "3.10.4"
  }
 },
 "nbformat": 4,
 "nbformat_minor": 5
}
